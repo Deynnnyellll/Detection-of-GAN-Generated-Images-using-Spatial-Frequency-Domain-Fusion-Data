{
 "cells": [
  {
   "cell_type": "code",
   "execution_count": 2,
   "metadata": {},
   "outputs": [],
   "source": [
    "import numpy as np\n",
    "from liblinear.liblinearutil import train, predict, load_model\n",
    "from preprocessing import preprocessing\n",
    "from train import spatial_frequency_feature_fusion"
   ]
  },
  {
   "cell_type": "code",
   "execution_count": 6,
   "metadata": {},
   "outputs": [
    {
     "name": "stdout",
     "output_type": "stream",
     "text": [
      "['/Users/Danniel/Downloads/Datasets/Try/gan (1).png', '/Users/Danniel/Downloads/Datasets/Try/real (1).png']\n"
     ]
    }
   ],
   "source": [
    "images = []\n",
    "\n",
    "real = \"/Users/Danniel/Downloads/Datasets/Try/real (1).png\"\n",
    "gan = \"/Users/Danniel/Downloads/Datasets/Try/gan (1).png\"\n",
    "\n",
    "images.append(gan)\n",
    "images.append(real)\n",
    "\n",
    "print(images)"
   ]
  },
  {
   "cell_type": "code",
   "execution_count": 7,
   "metadata": {},
   "outputs": [
    {
     "name": "stdout",
     "output_type": "stream",
     "text": [
      "\n",
      "\n",
      "Warning: Image is not resized\n",
      "...\n",
      "\n",
      "Performing image resizing\n",
      "...\n",
      "\n",
      "Applying Gaussian Noise Reduction\n",
      "\n",
      "\n",
      "Image is already in 512x512\n",
      "\n",
      "\n",
      "\n",
      "Applying Gaussian Noise Reduction\n",
      "Performing Feature Extraction\n",
      "Applying Local Binary Pattern\n",
      "\n",
      "\n",
      "\n",
      "[[  0   0   0 ...   0   0   0]\n",
      " [  0  63  62 ... 251 249   0]\n",
      " [  0  62  62 ... 255 255   0]\n",
      " ...\n",
      " [  0 227 255 ... 240 246   0]\n",
      " [  0 225 253 ... 240 240   0]\n",
      " [  0   0   0 ...   0   0   0]]\n",
      "\n",
      "1 out of 2 images\n",
      "Percentage: 50.0\n",
      "\n",
      "\n",
      "\n",
      "\n",
      "[[  0   0   0 ...   0   0   0]\n",
      " [  0 255  14 ... 243 255   0]\n",
      " [  0 255 255 ...  57 224   0]\n",
      " ...\n",
      " [  0 135 135 ...  62 121   0]\n",
      " [  0   7 135 ...  60 120   0]\n",
      " [  0   0   0 ...   0   0   0]]\n",
      "\n",
      "2 out of 2 images\n",
      "Percentage: 100.0\n",
      "\n",
      "\n",
      "LBP application finished\n",
      "\n",
      "\n",
      "Applying DWT to Images\n",
      "\n",
      "\n",
      "\n",
      "[[ 0  0  0 ...  0  0  0]\n",
      " [ 0  0  0 ...  0  0  0]\n",
      " [ 0  0  0 ...  0  0  0]\n",
      " ...\n",
      " [ 0 24 73 ... 71 24  0]\n",
      " [ 0  8 24 ... 24  8  0]\n",
      " [ 0  0  0 ...  0  0  0]]\n",
      "\n",
      "1 out of 2 images\n",
      "Percentage: 50.0\n",
      "\n",
      "\n",
      "\n",
      "\n",
      "[[0 0 0 ... 0 0 0]\n",
      " [0 0 0 ... 0 0 0]\n",
      " [0 0 0 ... 0 0 0]\n",
      " ...\n",
      " [0 0 0 ... 0 0 0]\n",
      " [0 0 0 ... 0 0 0]\n",
      " [0 0 0 ... 0 0 0]]\n",
      "\n",
      "2 out of 2 images\n",
      "Percentage: 100.0\n",
      "\n",
      "\n",
      "DWT application finished\n",
      "\n",
      "\n",
      "\n",
      "1 out of 2 images\n",
      "Percentage: 50.0\n",
      "\n",
      "\n",
      "2 out of 2 images\n",
      "Percentage: 100.0\n",
      "\n"
     ]
    }
   ],
   "source": [
    "preprocessed_img = [preprocessing(image) for image in images]\n",
    "\n",
    "fused_features = spatial_frequency_feature_fusion(preprocessed_img)"
   ]
  },
  {
   "cell_type": "code",
   "execution_count": 8,
   "metadata": {},
   "outputs": [],
   "source": [
    "feature_vector = [i.flatten() for i in fused_features]"
   ]
  },
  {
   "cell_type": "code",
   "execution_count": 10,
   "metadata": {},
   "outputs": [],
   "source": [
    "model = load_model('faces_updated.model')\n",
    "plat = load_model('platt scaler/platt_updated.model')"
   ]
  },
  {
   "cell_type": "code",
   "execution_count": 59,
   "metadata": {},
   "outputs": [
    {
     "name": "stdout",
     "output_type": "stream",
     "text": [
      "[0. 1.]\n"
     ]
    }
   ],
   "source": [
    "labels = np.array([np.ones(1) if \"real\" in labels else np.zeros(1) for labels in images])\n",
    "labels = np.vstack(labels)\n",
    "true_label = labels.reshape(labels.shape[0])\n",
    "\n",
    "print(true_label)"
   ]
  },
  {
   "cell_type": "code",
   "execution_count": 11,
   "metadata": {},
   "outputs": [
    {
     "name": "stdout",
     "output_type": "stream",
     "text": [
      "Accuracy = 50% (1/2) (classification)\n",
      "[[-0.9260834376110972], [0.9999999997807169]]\n",
      "Accuracy = 50% (1/2) (classification)\n",
      "[0.0, 1.0]\n",
      "[[0.4786654010877187, 0.5213345989122813], [0.5229510712394038, 0.47704892876059624]]\n"
     ]
    }
   ],
   "source": [
    "_, _, svm_scores = predict([], feature_vector, model)\n",
    "print(svm_scores)\n",
    "predicted_labels, _, prob_estimates = predict([], svm_scores, plat, '-b 1')\n",
    "\n",
    "print(predicted_labels)\n",
    "print(prob_estimates)"
   ]
  },
  {
   "cell_type": "code",
   "execution_count": 61,
   "metadata": {},
   "outputs": [
    {
     "name": "stdout",
     "output_type": "stream",
     "text": [
      "WARNING: The number of features in the input file does not match that in the initial model\n",
      "Accuracy = 50% (1/2) (classification)\n",
      "[[0.9260834376110972], [-0.9999999997807169]]\n",
      "WARNING: The number of features in the input file does not match that in the initial model\n",
      "Accuracy = 50% (1/2) (classification)\n",
      "[0.0, 1.0]\n",
      "[[0.6509198817147491, 0.3490801182852509], [0.34146785476025865, 0.6585321452397414]]\n"
     ]
    }
   ],
   "source": [
    "model1 = train(true_label, feature_vector, '-s 1 -c 1 -B 1 -i faces_old_liblinear.model')\n",
    "\n",
    "_, _, scores_train = predict([], feature_vector, model1)\n",
    "print(scores_train)\n",
    "\n",
    "plat1 = train(true_label, scores_train, '-s 0 -c 1 -B 1 -i platt_scale_validate_faces.model')\n",
    "\n",
    "predicted_labels_final, _, prob_estimates_final = predict([], scores_train, plat1, '-b 1')\n",
    "\n",
    "print(predicted_labels_final)\n",
    "print(prob_estimates_final)"
   ]
  },
  {
   "cell_type": "code",
   "execution_count": 41,
   "metadata": {},
   "outputs": [
    {
     "name": "stdout",
     "output_type": "stream",
     "text": [
      "['GAN', 'Real']\n"
     ]
    }
   ],
   "source": [
    "result = [\"Real\" if i == 1.0 else \"GAN\" for i in predicted_labels_final]\n",
    "\n",
    "print(result)"
   ]
  }
 ],
 "metadata": {
  "kernelspec": {
   "display_name": "Python 3",
   "language": "python",
   "name": "python3"
  },
  "language_info": {
   "codemirror_mode": {
    "name": "ipython",
    "version": 3
   },
   "file_extension": ".py",
   "mimetype": "text/x-python",
   "name": "python",
   "nbconvert_exporter": "python",
   "pygments_lexer": "ipython3",
   "version": "3.10.10"
  }
 },
 "nbformat": 4,
 "nbformat_minor": 2
}
