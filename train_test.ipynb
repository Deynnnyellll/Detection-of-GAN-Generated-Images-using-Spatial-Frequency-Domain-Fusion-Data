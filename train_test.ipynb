{
 "cells": [
  {
   "cell_type": "code",
   "execution_count": 34,
   "metadata": {},
   "outputs": [],
   "source": [
    "import numpy as np\n",
    "from libsvm.svmutil import svm_problem, svm_parameter, svm_train, svm_save_model\n",
    "from discrete_wavelet_transform import dwt_2d\n",
    "from local_binary_pattern import lbp\n",
    "from feature_fusion import concatenate_lbp_dwt\n",
    "import time\n",
    "import os\n",
    "import matplotlib.pyplot as plt\n",
    "import cv2"
   ]
  },
  {
   "cell_type": "markdown",
   "metadata": {},
   "source": [
    "Import Functions from train.py"
   ]
  },
  {
   "cell_type": "code",
   "execution_count": 35,
   "metadata": {},
   "outputs": [],
   "source": [
    "from train import get_data, spatial_frequency_feature_fusion, prepare_data, train_model, visualize"
   ]
  },
  {
   "cell_type": "markdown",
   "metadata": {},
   "source": [
    "Provide directory for Preprocessed Real and GAN-Generated Images"
   ]
  },
  {
   "cell_type": "code",
   "execution_count": null,
   "metadata": {},
   "outputs": [],
   "source": [
    "real_directory = \"/Users/Danniel/Downloads/preprocessed_real\"\n",
    "gan_directory = \"/Users/Danniel/Downloads/preprocessed_gan\""
   ]
  },
  {
   "cell_type": "markdown",
   "metadata": {},
   "source": [
    "\"get_data\" function will load the preprocessed images from the directory and store it in a list"
   ]
  },
  {
   "cell_type": "code",
   "execution_count": null,
   "metadata": {},
   "outputs": [],
   "source": [
    "# run data preparation\n",
    "real_data = get_data(real_directory)\n",
    "gan_data = get_data(gan_directory)"
   ]
  },
  {
   "cell_type": "markdown",
   "metadata": {},
   "source": [
    "Run to perform the proposed \"spatial frequency feature fusion\" method to extract meaningful features of an image to classify whether it is GAN-Generated or Real. The feature vector of each image will be stored in \"fused_features\" list"
   ]
  },
  {
   "cell_type": "code",
   "execution_count": null,
   "metadata": {},
   "outputs": [],
   "source": [
    "# run feature extraction & feature fusion\n",
    "extracted_real = spatial_frequency_feature_fusion(real_data)\n",
    "extracted_gan = spatial_frequency_feature_fusion(gan_data)"
   ]
  },
  {
   "cell_type": "markdown",
   "metadata": {},
   "source": [
    "For Data Visualization\n",
    "- provide real and gan parameter"
   ]
  },
  {
   "cell_type": "code",
   "execution_count": null,
   "metadata": {},
   "outputs": [],
   "source": [
    "# visualize\n",
    "visualize(extracted_real, extracted_gan)"
   ]
  },
  {
   "cell_type": "markdown",
   "metadata": {},
   "source": [
    "Data Preparation before feeding to the classifier\n",
    "- assigning of labels\n",
    "- flattening of feature vector"
   ]
  },
  {
   "cell_type": "code",
   "execution_count": null,
   "metadata": {},
   "outputs": [],
   "source": [
    "# prepare the data\n",
    "labels, datasets = prepare_data(extracted_real, extracted_gan)"
   ]
  },
  {
   "cell_type": "markdown",
   "metadata": {},
   "source": [
    "Model Training\n",
    "- Support Vector Machine\n",
    "- RBF Kernel"
   ]
  },
  {
   "cell_type": "code",
   "execution_count": null,
   "metadata": {},
   "outputs": [],
   "source": [
    "# train the data\n",
    "model = train_model(labels, datasets )"
   ]
  },
  {
   "cell_type": "markdown",
   "metadata": {},
   "source": [
    "Save the model using \".model\" extension"
   ]
  },
  {
   "cell_type": "code",
   "execution_count": null,
   "metadata": {},
   "outputs": [],
   "source": [
    "# save the model\n",
    "model_file = \"/Users/Danniel/Downloads/faces_validate.model\"\n",
    "svm_save_model(model_file, model)"
   ]
  },
  {
   "cell_type": "markdown",
   "metadata": {},
   "source": [
    "Model Testing\n",
    "- provide directory (folder) for testing datasets"
   ]
  },
  {
   "cell_type": "code",
   "execution_count": null,
   "metadata": {},
   "outputs": [],
   "source": [
    "from preprocessing import preprocessing\n",
    "from libsvm.svmutil import svm_load_model, svm_predict\n",
    "\n",
    "# test the model\n",
    "def predict(directory):\n",
    "    images = []\n",
    "\n",
    "    # load the images and store in images list\n",
    "    for filename in os.listdir(directory):\n",
    "        image = os.path.join(directory, filename)\n",
    "        if image is not None:\n",
    "            images.append(image)\n",
    "\n",
    "    print(len(images))        \n",
    "\n",
    "\n",
    "    # load the model\n",
    "    model_file = \"/Users/Danniel/Downloads/faces_validate.model\"\n",
    "    loaded_model = svm_load_model(model_file)\n",
    "\n",
    "    # preprocessing\n",
    "    preprocessed_img = []\n",
    "    for i in images:\n",
    "        preprocessed_img.append(preprocessing(i))      \n",
    "\n",
    "    # flatten the feature vector\n",
    "    feature_vector = spatial_frequency_feature_fusion(preprocessed_img)\n",
    "\n",
    "\n",
    "    # predict the result\n",
    "    print(\"\\n\\n-------------------THE MODEL IS PREDICTING----------------------------\\n\")\n",
    "    predicted_labels, _, _ = svm_predict([], feature_vector, loaded_model, '-q')\n",
    "\n",
    "\n",
    "    print(\"------------------------------------------RESULT-----------------------------------\\n\")\n",
    "    result = []\n",
    "    for i in predicted_labels:\n",
    "        if i == 1.0:\n",
    "            result.append(\"Real\")\n",
    "        elif i == 0.0:\n",
    "            result.append(\"GAN\")\n",
    "\n",
    "    print(result)\n",
    "\n",
    "#provide directory for testing dataset\n",
    "dir = \"\"\n",
    "\n",
    "predict(dir)"
   ]
  }
 ],
 "metadata": {
  "kernelspec": {
   "display_name": "Python 3",
   "language": "python",
   "name": "python3"
  },
  "language_info": {
   "codemirror_mode": {
    "name": "ipython",
    "version": 3
   },
   "file_extension": ".py",
   "mimetype": "text/x-python",
   "name": "python",
   "nbconvert_exporter": "python",
   "pygments_lexer": "ipython3",
   "version": "3.10.10"
  }
 },
 "nbformat": 4,
 "nbformat_minor": 2
}
