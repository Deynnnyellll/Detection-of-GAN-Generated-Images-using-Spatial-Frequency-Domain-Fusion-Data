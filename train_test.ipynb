{
 "cells": [
  {
   "cell_type": "code",
   "execution_count": null,
   "metadata": {},
   "outputs": [],
   "source": [
    "import numpy as np\n",
    "from libsvm.svmutil import svm_problem, svm_parameter, svm_train, svm_save_model\n",
    "from discrete_wavelet_transform import dwt_2d\n",
    "from local_binary_pattern import lbp\n",
    "from feature_fusion import concatenate_lbp_dwt\n",
    "import time\n",
    "import os\n",
    "import matplotlib.pyplot as plt\n",
    "import cv2"
   ]
  },
  {
   "cell_type": "markdown",
   "metadata": {},
   "source": [
    "Import Functions from train.py"
   ]
  },
  {
   "cell_type": "code",
   "execution_count": null,
   "metadata": {},
   "outputs": [],
   "source": [
    "from train import get_data, spatial_frequency_feature_fusion, prepare_data, train_model, visualize"
   ]
  },
  {
   "cell_type": "markdown",
   "metadata": {},
   "source": [
    "Run this for preprocessing\n",
    "\n",
    "- must include /utils\n",
    "- example path: \"/Users/Danniel/Detection-of-GAN-Generated-Images-using-Spatial-Frequency-Domain-Fusion-Data/utils\""
   ]
  },
  {
   "cell_type": "code",
   "execution_count": null,
   "metadata": {},
   "outputs": [],
   "source": [
    "import sys\n",
    "# path of the folder \"Detection-of-GAN-Generated-Images-using-Spatial-Frequency-Domain-Fusion-Data\"\n",
    "sys.path.append(\"/Users/Danniel/Detection-of-GAN-Generated-Images-using-Spatial-Frequency-Domain-Fusion-Data/utils\")\n",
    "\n",
    "from preprocessing_save import load_image, save_image\n",
    "\n",
    "# directory for reading\n",
    "img_real = \"/Users/Danniel/Downloads/Try/Real\"\n",
    "img_gan = \"/Users/Danniel/Downloads/Try/GAN\"\n",
    "\n",
    "# directory for saving (must be an empty folder)\n",
    "save_dir_real = \"/Users/Danniel/Downloads/Try/Preprocessed_Real\"\n",
    "save_dir_gan = \"/Users/Danniel/Downloads/Try/Preprocessed_GAN\"\n",
    "\n",
    "# store the images\n",
    "image_real = load_image(img_real)\n",
    "image_gan = load_image(img_gan)\n",
    "\n",
    "save_image(image_real, save_dir_real)\n",
    "save_image(image_gan, save_dir_gan)"
   ]
  },
  {
   "cell_type": "markdown",
   "metadata": {},
   "source": [
    "Provide directory for Preprocessed Real and GAN-Generated Images"
   ]
  },
  {
   "cell_type": "code",
   "execution_count": null,
   "metadata": {},
   "outputs": [],
   "source": [
    "real_directory = \"/Users/Danniel/Downloads/Try/Preprocessed_Real\"\n",
    "gan_directory = \"/Users/Danniel/Downloads/Try/Preprocessed_GAN\""
   ]
  },
  {
   "cell_type": "markdown",
   "metadata": {},
   "source": [
    "\"get_data\" function will load the preprocessed images from the directory and store it in a list"
   ]
  },
  {
   "cell_type": "code",
   "execution_count": null,
   "metadata": {},
   "outputs": [],
   "source": [
    "# run data preparation\n",
    "real_data = get_data(real_directory)\n",
    "gan_data = get_data(gan_directory)"
   ]
  },
  {
   "cell_type": "markdown",
   "metadata": {},
   "source": [
    "Run to perform the proposed \"spatial frequency feature fusion\" method to extract meaningful features of an image to classify whether it is GAN-Generated or Real. The feature vector of each image will be stored in \"fused_features\" list"
   ]
  },
  {
   "cell_type": "code",
   "execution_count": null,
   "metadata": {},
   "outputs": [],
   "source": [
    "# run feature extraction & feature fusion\n",
    "extracted_real = spatial_frequency_feature_fusion(real_data)\n",
    "extracted_gan = spatial_frequency_feature_fusion(gan_data)"
   ]
  },
  {
   "cell_type": "code",
   "execution_count": null,
   "metadata": {},
   "outputs": [],
   "source": [
    "# for multi-tasking\n",
    "import asyncio\n",
    "\n",
    "async def feature_extraction(images):\n",
    "    await asyncio.sleep(1)\n",
    "    fused_features = spatial_frequency_feature_fusion(images)\n",
    "\n",
    "    return fused_features\n",
    "\n",
    "async def main():\n",
    "    extracted_real = asyncio.create_task(feature_extraction(real_data))\n",
    "    extracted_gan = asyncio.create_task(feature_extraction(gan_data))\n",
    "\n",
    "    e_real = await extracted_real\n",
    "    e_gan = await extracted_gan\n",
    "\n",
    "    return e_real, e_gan\n",
    "   \n",
    "\n",
    "real, gan = await main()\n"
   ]
  },
  {
   "cell_type": "markdown",
   "metadata": {},
   "source": [
    "For Data Visualization\n",
    "- provide real and gan parameter"
   ]
  },
  {
   "cell_type": "code",
   "execution_count": null,
   "metadata": {},
   "outputs": [],
   "source": [
    "# visualize\n",
    "visualize(real, gan)"
   ]
  },
  {
   "cell_type": "markdown",
   "metadata": {},
   "source": [
    "Data Preparation before feeding to the classifier\n",
    "- assigning of labels\n",
    "- flattening of feature vector"
   ]
  },
  {
   "cell_type": "code",
   "execution_count": null,
   "metadata": {},
   "outputs": [],
   "source": [
    "# prepare the data\n",
    "labels, datasets = prepare_data(real, gan)\n",
    "print(labels, datasets)"
   ]
  },
  {
   "cell_type": "markdown",
   "metadata": {},
   "source": [
    "Model Training\n",
    "- Support Vector Machine\n",
    "- Linear Kernel"
   ]
  },
  {
   "cell_type": "code",
   "execution_count": null,
   "metadata": {},
   "outputs": [],
   "source": [
    "# train the data\n",
    "model = train_model(labels, datasets )"
   ]
  },
  {
   "cell_type": "markdown",
   "metadata": {},
   "source": [
    "Save the model using \".model\" extension"
   ]
  },
  {
   "cell_type": "code",
   "execution_count": null,
   "metadata": {},
   "outputs": [],
   "source": [
    "# save the model\n",
    "model_file = \"/Users/Danniel/Downloads/faces_try(preprocessed).model\"\n",
    "svm_save_model(model_file, model)"
   ]
  },
  {
   "cell_type": "markdown",
   "metadata": {},
   "source": [
    "Model Testing\n",
    "- provide directory (folder) for testing datasets"
   ]
  },
  {
   "cell_type": "code",
   "execution_count": null,
   "metadata": {},
   "outputs": [],
   "source": [
    "from libsvm.svmutil import svm_problem, svm_train, svm_save_model, svm_load_model, svm_predict\n",
    "from preprocessing import preprocessing\n",
    "import os\n",
    "import numpy as np\n",
    "from train import spatial_frequency_feature_fusion\n",
    "\n",
    "# test the model\n",
    "def predict(directory):\n",
    "    images = []\n",
    "\n",
    "    # load the images and store in images list\n",
    "    for filename in os.listdir(directory):\n",
    "        image = os.path.join(directory, filename)\n",
    "        if image is not None:\n",
    "            images.append(image)\n",
    "      \n",
    "\n",
    "\n",
    "    # load the model\n",
    "    model_file = \"/Users/Danniel/Downloads/faces_validate.model\"\n",
    "    loaded_model = svm_load_model(model_file)\n",
    "\n",
    "    # preprocessing\n",
    "    preprocessed_img = []\n",
    "    for i in images:\n",
    "        preprocessed_img.append(preprocessing(i))   \n",
    "\n",
    "    # flatten the feature vector\n",
    "    fused_features = spatial_frequency_feature_fusion(preprocessed_img)\n",
    "    labels = np.ones((len(fused_features), 1)) \n",
    "    true_label = labels.reshape(labels.shape[0])\n",
    "\n",
    "    feature_vector = []\n",
    "    for i in fused_features:\n",
    "        print(i)\n",
    "        feature_vector.append(i.flatten())\n",
    "\n",
    "    print(feature_vector)\n",
    "\n",
    "\n",
    "\n",
    "    # predict the result\n",
    "    print(\"\\n\\n-------------------THE MODEL IS PREDICTING----------------------------\\n\")\n",
    "    predicted_labels, _, likelihood = svm_predict(true_label, feature_vector, loaded_model, '-b 1')\n",
    "\n",
    "\n",
    "    print(\"------------------------------------------RESULT-----------------------------------\\n\")\n",
    "    result = []\n",
    "    for i in predicted_labels:\n",
    "        if i == 1.0:\n",
    "            result.append(\"Real\")\n",
    "        elif i == 0.0:\n",
    "            result.append(\"GAN\")\n",
    "\n",
    "#provide directory for testing dataset\n",
    "dir = \"/Users/Danniel/Downloads/Low Dataset/test_combination\"\n",
    "\n",
    "predict(dir)\n",
    "\n",
    "# existing_model_file = \"/Users/Danniel/Downloads/sample.model\"\n",
    "# existing_model = svm_load_model(existing_model_file)\n",
    "\n",
    "# # New data\n",
    "# new_labels = np.array(new_labels)\n",
    "# new_datasets = np.array(new_datasets)\n",
    "\n",
    "# # Train or update the model incrementally\n",
    "# updated_model = train_model(existing_model, new_labels, new_datasets)\n",
    "\n",
    "# # Save the updated model\n",
    "# model_file = \"/Users/Danniel/Downloads/updated_model.model\"\n",
    "# svm_save_model(model_file, updated_model)\n",
    "\n",
    "# # Use the updated model for prediction\n",
    "# image_directory = \"/Users/Danniel/Downloads/Low Dataset/test\"\n",
    "# images = [os.path.join(image_directory, filename) for filename in os.listdir(image_directory)]\n",
    "# predict(updated_model, images)"
   ]
  },
  {
   "cell_type": "markdown",
   "metadata": {},
   "source": [
    "Testing combination"
   ]
  },
  {
   "cell_type": "code",
   "execution_count": null,
   "metadata": {},
   "outputs": [],
   "source": [
    "from libsvm.svmutil import svm_problem, svm_train, svm_save_model, svm_load_model, svm_predict\n",
    "from preprocessing import preprocessing\n",
    "import os\n",
    "import numpy as np\n",
    "from train import spatial_frequency_feature_fusion\n",
    "\n",
    "# test the model\n",
    "def get_data(directory):\n",
    "    images = []\n",
    "\n",
    "    # load the images and store in images list\n",
    "    for filename in os.listdir(directory):\n",
    "        image = os.path.join(directory, filename)\n",
    "        if image is not None:\n",
    "            images.append(image)\n",
    "\n",
    "    # preprocessing\n",
    "    preprocessed_img = []\n",
    "    for i in images:\n",
    "        preprocessed_img.append(preprocessing(i))   \n",
    "\n",
    "    # flatten the feature vector\n",
    "    fused_features = spatial_frequency_feature_fusion(preprocessed_img)\n",
    "    labels = np.ones((len(fused_features), 1)) \n",
    "    true_label = labels.reshape(labels.shape[0])\n",
    "\n",
    "    feature_vector = []\n",
    "    for i in fused_features:\n",
    "        print(i)\n",
    "        feature_vector.append(i.flatten())\n",
    "\n",
    "\n",
    "    return feature_vector\n",
    "\n",
    "\n",
    "def predict(real, gan):  \n",
    "    # load the model\n",
    "    model_file = \"/Users/Danniel/Downloads/faces_validate.model\"\n",
    "    loaded_model = svm_load_model(model_file)\n",
    "\n",
    "    #label real  and gan datasets\n",
    "    real_label = np.ones((len(real), 1))\n",
    "    gan_label = np.zeros((len(gan), 1))\n",
    "\n",
    "    # combine the labels and datasets\n",
    "    dataset_labels = np.vstack((real_label, gan_label))\n",
    "    datasets = np.vstack((real, gan))\n",
    "\n",
    "    feature_vector = [i.flatten() for i in datasets]\n",
    "    true_label = dataset_labels.reshape(dataset_labels.shape[0])\n",
    "\n",
    "    # predict the result\n",
    "    print(\"\\n\\n-------------------THE MODEL IS PREDICTING----------------------------\\n\")\n",
    "    predicted_labels, _, likelihood = svm_predict(true_label, feature_vector, loaded_model, '-b 1')\n",
    "\n",
    "\n",
    "    print(\"------------------------------------------RESULT-----------------------------------\\n\")\n",
    "    result = []\n",
    "    for i in predicted_labels:\n",
    "        if i == 1.0:\n",
    "            result.append(\"Real\")\n",
    "        elif i == 0.0:\n",
    "            result.append(\"GAN\")\n",
    "\n",
    "    print(predicted_labels)        \n",
    "\n",
    "\n",
    "#provide directory for testing dataset\n",
    "dir_real = \"/Users/Danniel/Downloads/Low Dataset/test_real\"\n",
    "dir_gan = \"/Users/Danniel/Downloads/Low Dataset/test_gan\"\n",
    "\n",
    "\n",
    "\n",
    "real = get_data(dir_real)\n",
    "gan = get_data(dir_gan)\n",
    "\n",
    "predict(real, gan)"
   ]
  }
 ],
 "metadata": {
  "kernelspec": {
   "display_name": "Python 3",
   "language": "python",
   "name": "python3"
  },
  "language_info": {
   "codemirror_mode": {
    "name": "ipython",
    "version": 3
   },
   "file_extension": ".py",
   "mimetype": "text/x-python",
   "name": "python",
   "nbconvert_exporter": "python",
   "pygments_lexer": "ipython3",
   "version": "3.10.10"
  }
 },
 "nbformat": 4,
 "nbformat_minor": 2
}
